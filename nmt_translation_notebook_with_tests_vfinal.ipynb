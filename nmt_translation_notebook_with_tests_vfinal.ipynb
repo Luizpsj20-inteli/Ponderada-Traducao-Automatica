{
  "cells": [
    {
      "cell_type": "markdown",
      "id": "bb7cc8cc",
      "metadata": {
        "id": "bb7cc8cc"
      },
      "source": [
        "# Estudo de Caso de Tradução Automática - Dive into Deep Learning"
      ]
    },
    {
      "cell_type": "markdown",
      "id": "274e6b2f",
      "metadata": {
        "id": "274e6b2f"
      },
      "source": [
        "## Passo 1: Download e Pré-processamento do Conjunto de Dados"
      ]
    },
    {
      "cell_type": "code",
      "execution_count": null,
      "id": "o8lgBoIBlEnd",
      "metadata": {
        "colab": {
          "base_uri": "https://localhost:8080/"
        },
        "id": "o8lgBoIBlEnd",
        "outputId": "582d520d-4058-48a0-99a3-8121914db98a"
      },
      "outputs": [],
      "source": [
        "!pip install d2l"
      ]
    },
    {
      "cell_type": "code",
      "execution_count": 2,
      "id": "791b3b1f",
      "metadata": {
        "colab": {
          "base_uri": "https://localhost:8080/"
        },
        "id": "791b3b1f",
        "outputId": "b0e47ea4-795c-48f8-c527-8179c3285c97"
      },
      "outputs": [
        {
          "name": "stdout",
          "output_type": "stream",
          "text": [
            "Go.\tVa !\n",
            "Hi.\tSalut !\n",
            "Run!\tCours !\n",
            "Run!\tCourez !\n",
            "Who?\tQui ?\n",
            "Wow!\tÇa alors !\n",
            "\n"
          ]
        }
      ],
      "source": [
        "\n",
        "import os\n",
        "import tensorflow as tf\n",
        "from d2l import tensorflow as d2l\n",
        "import matplotlib.pyplot as plt\n",
        "\n",
        "# Função para baixar e extrair os dados do Projeto Tatoeba\n",
        "d2l.DATA_HUB['fra-eng'] = (d2l.DATA_URL + 'fra-eng.zip', '94646ad1522d915e7b0f9296181140edcf86a4f5')\n",
        "\n",
        "def read_data_nmt():\n",
        "    \"\"\"Carregar o dataset Inglês-Francês.\"\"\"\n",
        "    data_dir = d2l.download_extract('fra-eng')\n",
        "    with open(os.path.join(data_dir, 'fra.txt'), 'r') as f:\n",
        "        return f.read()\n",
        "\n",
        "# Carregar o texto bruto\n",
        "raw_text = read_data_nmt()\n",
        "print(raw_text[:75])\n"
      ]
    },
    {
      "cell_type": "markdown",
      "id": "63858217",
      "metadata": {
        "id": "63858217"
      },
      "source": [
        "## Passo 2: Pré-processamento dos Dados"
      ]
    },
    {
      "cell_type": "code",
      "execution_count": 3,
      "id": "d5425d85",
      "metadata": {
        "colab": {
          "base_uri": "https://localhost:8080/"
        },
        "id": "d5425d85",
        "outputId": "abc207ae-235f-418f-c586-2ea170a49706"
      },
      "outputs": [
        {
          "name": "stdout",
          "output_type": "stream",
          "text": [
            "go .\tva !\n",
            "hi .\tsalut !\n",
            "run !\tcours !\n",
            "run !\tcourez !\n",
            "who ?\tqui ?\n",
            "wow !\tça alors !\n"
          ]
        }
      ],
      "source": [
        "\n",
        "# Função para pré-processar os dados\n",
        "def preprocess_nmt(text):\n",
        "    \"\"\"Pré-processar o dataset Inglês-Francês.\"\"\"\n",
        "    def no_space(char, prev_char):\n",
        "        return char in set(',.!?') and prev_char != ' '\n",
        "\n",
        "    text = text.replace('\\u202f', ' ').replace('\\xa0', ' ').lower()\n",
        "    out = [' ' + char if i > 0 and no_space(char, text[i - 1]) else char for i, char in enumerate(text)]\n",
        "    return ''.join(out)\n",
        "\n",
        "# Aplicar pré-processamento\n",
        "text = preprocess_nmt(raw_text)\n",
        "print(text[:80])\n"
      ]
    },
    {
      "cell_type": "markdown",
      "id": "1c11ddfa",
      "metadata": {
        "id": "1c11ddfa"
      },
      "source": [
        "## Passo 3: Tokenização e Obtenção do Vocabulário"
      ]
    },
    {
      "cell_type": "code",
      "execution_count": 4,
      "id": "d48a469c",
      "metadata": {
        "colab": {
          "base_uri": "https://localhost:8080/"
        },
        "id": "d48a469c",
        "outputId": "909cc7d5-06e3-4ddb-d15e-06cb54f85596"
      },
      "outputs": [
        {
          "name": "stdout",
          "output_type": "stream",
          "text": [
            "[['go', '.'], ['hi', '.'], ['run', '!'], ['run', '!'], ['who', '?'], ['wow', '!']] [['va', '!'], ['salut', '!'], ['cours', '!'], ['courez', '!'], ['qui', '?'], ['ça', 'alors', '!']]\n",
            "Tamanho do vocabulário da origem: 10012\n"
          ]
        }
      ],
      "source": [
        "\n",
        "\n",
        "# Função para tokenizar os dados\n",
        "def tokenize_nmt(text, num_examples=None):\n",
        "    \"\"\"Tokenizar o dataset Inglês-Francês.\"\"\"\n",
        "    source, target = [], []\n",
        "    for i, line in enumerate(text.split('\\n')):\n",
        "        if num_examples and i > num_examples:\n",
        "            break\n",
        "        parts = line.split('\\t')\n",
        "        if len(parts) == 2:\n",
        "            source.append(parts[0].split(' '))\n",
        "            target.append(parts[1].split(' '))\n",
        "    return source, target\n",
        "\n",
        "# Tokenizar as frases\n",
        "source, target = tokenize_nmt(text)\n",
        "print(source[:6], target[:6])\n",
        "\n",
        "# Construir o vocabulário\n",
        "src_vocab = d2l.Vocab(source, min_freq=2, reserved_tokens=['<pad>', '<bos>', '<eos>'])\n",
        "print(f'Tamanho do vocabulário da origem: {len(src_vocab)}')\n"
      ]
    },
    {
      "cell_type": "markdown",
      "id": "59a6d5b3",
      "metadata": {
        "id": "59a6d5b3"
      },
      "source": [
        "## Passo 4: Truncamento e Padding"
      ]
    },
    {
      "cell_type": "code",
      "execution_count": 5,
      "id": "04ae064b",
      "metadata": {
        "colab": {
          "base_uri": "https://localhost:8080/"
        },
        "id": "04ae064b",
        "outputId": "9fc0ae8e-649d-479d-a996-d164c876b4f6"
      },
      "outputs": [
        {
          "name": "stdout",
          "output_type": "stream",
          "text": [
            "[3919, 80, 208, 208, 208, 208, 208, 208, 208, 208]\n"
          ]
        }
      ],
      "source": [
        "\n",
        "# Função para truncar ou adicionar padding às sequências\n",
        "def truncate_pad(line, num_steps, padding_token):\n",
        "    \"\"\"Truncar ou adicionar padding às sequências.\"\"\"\n",
        "    if len(line) > num_steps:\n",
        "        return line[:num_steps]  # Truncar\n",
        "    return line + [padding_token] * (num_steps - len(line))  # Padding\n",
        "\n",
        "# Exemplo de truncamento e padding\n",
        "print(truncate_pad(src_vocab[source[0]], 10, src_vocab['<pad>']))\n"
      ]
    },
    {
      "cell_type": "markdown",
      "id": "566a3982",
      "metadata": {
        "id": "566a3982"
      },
      "source": [
        "## Passo 5: Construção de Arrays para o Modelo"
      ]
    },
    {
      "cell_type": "code",
      "execution_count": 6,
      "id": "e1e65845",
      "metadata": {
        "colab": {
          "base_uri": "https://localhost:8080/"
        },
        "id": "e1e65845",
        "outputId": "01326b88-7122-4232-d0c4-0282761c9748"
      },
      "outputs": [
        {
          "name": "stdout",
          "output_type": "stream",
          "text": [
            "X: tf.Tensor(\n",
            "[[ 74 155   2   4   5   5   5   5]\n",
            " [182 106   2   4   5   5   5   5]], shape=(2, 8), dtype=int32)\n",
            "Tamanho válido para X: tf.Tensor([4 4], shape=(2,), dtype=int32)\n",
            "Y: tf.Tensor(\n",
            "[[176  40   0   4   5   5   5   5]\n",
            " [  6   0   4   5   5   5   5   5]], shape=(2, 8), dtype=int32)\n",
            "Tamanho válido para Y: tf.Tensor([4 3], shape=(2,), dtype=int32)\n"
          ]
        }
      ],
      "source": [
        "\n",
        "# Função para transformar as sequências em lotes\n",
        "def build_array_nmt(lines, vocab, num_steps):\n",
        "    \"\"\"Transformar as sequências em mini-batches.\"\"\"\n",
        "    lines = [vocab[l] for l in lines]\n",
        "    lines = [l + [vocab['<eos>']] for l in lines]\n",
        "    array = tf.constant([truncate_pad(l, num_steps, vocab['<pad>']) for l in lines])\n",
        "    valid_len = tf.reduce_sum(tf.cast(array != vocab['<pad>'], tf.int32), 1)\n",
        "    return array, valid_len\n",
        "\n",
        "# Função para carregar os dados\n",
        "def load_data_nmt(batch_size, num_steps, num_examples=600):\n",
        "    \"\"\"Retorna o iterador e os vocabulários do dataset de tradução.\"\"\"\n",
        "    text = preprocess_nmt(read_data_nmt())\n",
        "    source, target = tokenize_nmt(text, num_examples)\n",
        "    src_vocab = d2l.Vocab(source, min_freq=2, reserved_tokens=['<pad>', '<bos>', '<eos>'])\n",
        "    tgt_vocab = d2l.Vocab(target, min_freq=2, reserved_tokens=['<pad>', '<bos>', '<eos>'])\n",
        "    src_array, src_valid_len = build_array_nmt(source, src_vocab, num_steps)\n",
        "    tgt_array, tgt_valid_len = build_array_nmt(target, tgt_vocab, num_steps)\n",
        "    data_arrays = (src_array, src_valid_len, tgt_array, tgt_valid_len)\n",
        "    data_iter = d2l.load_array(data_arrays, batch_size)\n",
        "    return data_iter, src_vocab, tgt_vocab\n",
        "\n",
        "# Carregar os dados\n",
        "train_iter, src_vocab, tgt_vocab = load_data_nmt(batch_size=2, num_steps=8)\n",
        "for X, X_valid_len, Y, Y_valid_len in train_iter:\n",
        "    print('X:', tf.cast(X, tf.int32))\n",
        "    print('Tamanho válido para X:', X_valid_len)\n",
        "    print('Y:', tf.cast(Y, tf.int32))\n",
        "    print('Tamanho válido para Y:', Y_valid_len)\n",
        "    break\n"
      ]
    },
    {
      "cell_type": "markdown",
      "id": "23fa2c1b",
      "metadata": {
        "id": "23fa2c1b"
      },
      "source": [
        "## Visualização dos Comprimentos das Frases"
      ]
    },
    {
      "cell_type": "code",
      "execution_count": 7,
      "id": "7c0074fd",
      "metadata": {
        "colab": {
          "base_uri": "https://localhost:8080/",
          "height": 472
        },
        "id": "7c0074fd",
        "outputId": "3fc136fa-8100-435a-ec6c-7132ef6922ff"
      },
      "outputs": [
        {
          "data": {
            "image/png": "[encoded data removed]",
            "text/plain": [
              "<Figure size 640x480 with 1 Axes>"
            ]
          },
          "metadata": {},
          "output_type": "display_data"
        }
      ],
      "source": [
        "\n",
        "# Função para plotar a distribuição dos comprimentos das frases\n",
        "def plot_sentence_length_distribution(source, target):\n",
        "    \"\"\"Plotar a distribuição dos comprimentos das frases de origem e destino.\"\"\"\n",
        "    source_lengths = [len(line) for line in source]\n",
        "    target_lengths = [len(line) for line in target]\n",
        "\n",
        "    plt.hist([source_lengths, target_lengths], bins=range(0, 20), color=['blue', 'green'], label=['Source', 'Target'], alpha=0.7)\n",
        "    plt.xlabel('Número de tokens')\n",
        "    plt.ylabel('Frequência')\n",
        "    plt.title('Distribuição dos comprimentos das frases de origem e destino')\n",
        "    plt.legend(loc='upper right')\n",
        "    plt.show()\n",
        "\n",
        "# Gerar gráfico\n",
        "plot_sentence_length_distribution(source, target)\n"
      ]
    },
    {
      "cell_type": "markdown",
      "id": "134b07f9",
      "metadata": {
        "id": "134b07f9"
      },
      "source": [
        "## Testando Diferentes Valores de `num_examples`"
      ]
    },
    {
      "cell_type": "code",
      "execution_count": 8,
      "id": "6c8040c0",
      "metadata": {
        "colab": {
          "base_uri": "https://localhost:8080/"
        },
        "id": "6c8040c0",
        "outputId": "79f28172-e912-4d04-990f-b7c7707d506e"
      },
      "outputs": [
        {
          "name": "stdout",
          "output_type": "stream",
          "text": [
            "Num examples: 100\n",
            "Tamanho do vocabulário da origem: 40\n",
            "Tamanho do vocabulário do destino: 40\n",
            "--------------------------------------------------\n",
            "Num examples: 500\n",
            "Tamanho do vocabulário da origem: 159\n",
            "Tamanho do vocabulário do destino: 163\n",
            "--------------------------------------------------\n",
            "Num examples: 1000\n",
            "Tamanho do vocabulário da origem: 266\n",
            "Tamanho do vocabulário do destino: 321\n",
            "--------------------------------------------------\n",
            "Num examples: 2000\n",
            "Tamanho do vocabulário da origem: 454\n",
            "Tamanho do vocabulário do destino: 585\n",
            "--------------------------------------------------\n"
          ]
        }
      ],
      "source": [
        "\n",
        "# Função para testar diferentes valores de num_examples e ver o impacto no vocabulário\n",
        "def test_vocab_size(num_examples):\n",
        "    train_iter, src_vocab, tgt_vocab = load_data_nmt(batch_size=2, num_steps=8, num_examples=num_examples)\n",
        "    print(f'Num examples: {num_examples}')\n",
        "    print(f'Tamanho do vocabulário da origem: {len(src_vocab)}')\n",
        "    print(f'Tamanho do vocabulário do destino: {len(tgt_vocab)}')\n",
        "    print('-' * 50)\n",
        "\n",
        "# Testando com diferentes valores de num_examples\n",
        "for num_examples in [100, 500, 1000, 2000]:\n",
        "    test_vocab_size(num_examples)\n"
      ]
    },
    {
      "cell_type": "markdown",
      "id": "c069adcc",
      "metadata": {
        "id": "c069adcc"
      },
      "source": [
        "## Comparando Tokenização de Palavras e Caracteres para Idiomas como Chinês"
      ]
    },
    {
      "cell_type": "code",
      "execution_count": 9,
      "id": "b2f48241",
      "metadata": {
        "colab": {
          "base_uri": "https://localhost:8080/"
        },
        "id": "b2f48241",
        "outputId": "480263e5-045a-4291-eef5-820a5b5f0c1e"
      },
      "outputs": [
        {
          "name": "stdout",
          "output_type": "stream",
          "text": [
            "Tokenização por palavras (sem separadores): [['我喜欢学习深度学习'], ['深度学习改变了世界']]\n",
            "Tokenização por caracteres: [['我', '喜', '欢', '学', '习', '深', '度', '学', '习'], ['深', '度', '学', '习', '改', '变', '了', '世', '界']]\n"
          ]
        }
      ],
      "source": [
        "\n",
        "# Exemplo de frases em chinês\n",
        "chinese_sentences = [\"我喜欢学习深度学习\", \"深度学习改变了世界\"]\n",
        "\n",
        "# Tokenização baseada em palavras (tentativa)\n",
        "def tokenize_by_word(sentences):\n",
        "    return [sentence.split(' ') for sentence in sentences]\n",
        "\n",
        "# Tokenização baseada em caracteres\n",
        "def tokenize_by_character(sentences):\n",
        "    return [[char for char in sentence] for sentence in sentences]\n",
        "\n",
        "# Comparação das duas tokenizações\n",
        "word_tokenized = tokenize_by_word(chinese_sentences)\n",
        "char_tokenized = tokenize_by_character(chinese_sentences)\n",
        "\n",
        "print(\"Tokenização por palavras (sem separadores):\", word_tokenized)\n",
        "print(\"Tokenização por caracteres:\", char_tokenized)\n"
      ]
    },
    {
      "cell_type": "code",
      "execution_count": null,
      "id": "_UYKK_D3lMtB",
      "metadata": {
        "id": "_UYKK_D3lMtB"
      },
      "outputs": [],
      "source": []
    }
  ],
  "metadata": {
    "colab": {
      "provenance": []
    },
    "kernelspec": {
      "display_name": "Python 3",
      "name": "python3"
    },
    "language_info": {
      "name": "python"
    }
  },
  "nbformat": 4,
  "nbformat_minor": 5
}
